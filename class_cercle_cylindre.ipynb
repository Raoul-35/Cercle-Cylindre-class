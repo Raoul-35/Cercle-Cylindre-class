{
  "nbformat": 4,
  "nbformat_minor": 0,
  "metadata": {
    "colab": {
      "provenance": [],
      "authorship_tag": "ABX9TyOBPw93IgeK182bX8Z8bu1Q",
      "include_colab_link": true
    },
    "kernelspec": {
      "name": "python3",
      "display_name": "Python 3"
    },
    "language_info": {
      "name": "python"
    }
  },
  "cells": [
    {
      "cell_type": "markdown",
      "metadata": {
        "id": "view-in-github",
        "colab_type": "text"
      },
      "source": [
        "<a href=\"https://colab.research.google.com/github/Raoul-35/Cercle-Cylindre-class/blob/main/class_cercle_cylindre.ipynb\" target=\"_parent\"><img src=\"https://colab.research.google.com/assets/colab-badge.svg\" alt=\"Open In Colab\"/></a>"
      ]
    },
    {
      "cell_type": "code",
      "execution_count": 1,
      "metadata": {
        "colab": {
          "base_uri": "https://localhost:8080/"
        },
        "id": "lGFLnMJhpYoT",
        "outputId": "63c6561f-bdb1-4062-8a82-996decf44c1a"
      },
      "outputs": [
        {
          "output_type": "stream",
          "name": "stdout",
          "text": [
            "Le périmètre de mon cercle est :  25.132741228718345\n",
            "La surface de mon cercle est :  50.26548245743669\n",
            "Le volume de mon cylindre est :  402.1238596594935\n"
          ]
        }
      ],
      "source": [
        "#!/usr/bin/python3\n",
        "# -*-coding:utf-8-*-\n",
        "# Importation du module math\n",
        "from math import *\n",
        "\n",
        "\"\"\"Crée une classe Cercle en python, dotée d'un attribut rayon,\n",
        "d'une méthode perimetre() pou calculer le périmètre du cercle\n",
        " et une méthode surface() pour calculer la surface du cercle.\n",
        " Crée également une classe fille Cylindre héritant de la classe Cercle\n",
        " , dotée d'un attribut hauteur et une méthode volume()\n",
        " pour calculer le volume du cylindre.\"\"\"\n",
        "\n",
        "# Creation de la classe Cercle\n",
        "class Cercle:\n",
        "    def __init__(self, rayon):\n",
        "        self.rayon = rayon\n",
        "\n",
        "    # Méthode calculant le périmètre\n",
        "    def perimetre(self):\n",
        "        return 2 * pi * self.rayon\n",
        "\n",
        "    # Méthode calculant la surface\n",
        "    def surface(self):\n",
        "        return pi * (self.rayon ** 2)\n",
        "\n",
        "#Création de la classe fille Cylindre\n",
        "class Cylindre(Cercle):\n",
        "    def __init__(self, rayon, hauteur):\n",
        "        Cercle.__init__(self, rayon)\n",
        "        self.hauteur = hauteur\n",
        "\n",
        "    # Méthode calculant le voloume\n",
        "    def volume(self):\n",
        "        return (self.rayon ** 2) * pi * self.hauteur\n",
        "\n",
        "# Créer un objet cercle et cylindre\n",
        "mon_cercle = Cercle(4)\n",
        "mon_cylindre = Cylindre(4, 8)\n",
        "\n",
        "#À partir de ces objets calculons et affichons le périmètre\n",
        "# et la surface du cercle. Puis le volume du cylindre\n",
        "print(\"Le périmètre de mon cercle est : \", mon_cercle.perimetre())\n",
        "print(\"La surface de mon cercle est : \", mon_cercle.surface())\n",
        "print(\"Le volume de mon cylindre est : \", mon_cylindre.volume())"
      ]
    }
  ]
}